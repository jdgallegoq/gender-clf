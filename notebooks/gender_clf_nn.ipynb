{
  "cells": [
    {
      "cell_type": "markdown",
      "metadata": {},
      "source": [
        "# MLP with image augmentation"
      ]
    },
    {
      "cell_type": "markdown",
      "metadata": {
        "id": "uXSq4U--vigD"
      },
      "source": [
        "<ol>1. Loading the dataset</ol>\n",
        "<ol>2. Pre-processing the data</ol>\n",
        "<ol>3. Creating training and validation set</ol>\n",
        "<ol>4. Defining the model architecture</ol>\n",
        "<ol>5. Compiling the model</ol>\n",
        "<ol>6. Training the model</ol>\n",
        "<ol>7. Evaluating model performance</ol>"
      ]
    },
    {
      "cell_type": "code",
      "execution_count": 1,
      "metadata": {},
      "outputs": [
        {
          "name": "stdout",
          "output_type": "stream",
          "text": [
            "tensorflow version:  2.9.2\n",
            "keras version:  2.9.0\n"
          ]
        }
      ],
      "source": [
        "import tensorflow as tf\n",
        "import keras\n",
        "print('tensorflow version: ', tf.__version__)\n",
        "print('keras version: ', keras.__version__)"
      ]
    },
    {
      "cell_type": "code",
      "execution_count": 2,
      "metadata": {},
      "outputs": [
        {
          "name": "stdout",
          "output_type": "stream",
          "text": [
            "Device mapping:\n",
            "/job:localhost/replica:0/task:0/device:GPU:0 -> device: 0, name: Quadro P4000, pci bus id: 0000:00:05.0, compute capability: 6.1\n",
            "\n"
          ]
        }
      ],
      "source": [
        "# define sess to use gpu\n",
        "sess = tf.compat.v1.Session(config=tf.compat.v1.ConfigProto(log_device_placement=True))"
      ]
    },
    {
      "cell_type": "code",
      "execution_count": 3,
      "metadata": {
        "colab": {
          "base_uri": "https://localhost:8080/",
          "height": 563
        },
        "id": "TGl2rLlKu6vH",
        "outputId": "79bf5615-03f9-4657-b250-7605a615becc"
      },
      "outputs": [],
      "source": [
        "# import necessary libraries and functions\n",
        "import os\n",
        "import joblib\n",
        "import numpy as np\n",
        "import pandas as pd\n",
        "from glob import glob\n",
        "import matplotlib.pyplot as plt\n",
        "%matplotlib inline\n",
        "\n",
        "from keras.layers import Dense, InputLayer\n",
        "from keras.models import Sequential\n",
        "\n",
        "from tqdm.notebook import tqdm\n",
        "\n",
        "from sklearn.model_selection import train_test_split"
      ]
    },
    {
      "cell_type": "code",
      "execution_count": 4,
      "metadata": {},
      "outputs": [],
      "source": [
        "import sys\n",
        "\n",
        "sys.path.append('..')\n",
        "from utils.s3_class import S3Functions\n",
        "s3_funcs = S3Functions(bucket_name='jdgallegoq-pinacle')"
      ]
    },
    {
      "cell_type": "code",
      "execution_count": 5,
      "metadata": {
        "id": "unFjaNAIv2CW"
      },
      "outputs": [],
      "source": [
        "# create random number generator\n",
        "seed = 42\n",
        "rng = np.random.RandomState(seed)"
      ]
    },
    {
      "cell_type": "code",
      "execution_count": 6,
      "metadata": {
        "colab": {
          "base_uri": "https://localhost:8080/"
        },
        "id": "Nn6YkxDfv6qe",
        "outputId": "d0ef21c8-47cd-45cc-a4ae-dfb9e5dce29a"
      },
      "outputs": [
        {
          "name": "stdout",
          "output_type": "stream",
          "text": [
            "<class 'pandas.core.frame.DataFrame'>\n",
            "RangeIndex: 12196 entries, 0 to 12195\n",
            "Data columns (total 2 columns):\n",
            " #   Column       Non-Null Count  Dtype \n",
            "---  ------       --------------  ----- \n",
            " 0   image_names  12196 non-null  object\n",
            " 1   class        12196 non-null  int64 \n",
            "dtypes: int64(1), object(1)\n",
            "memory usage: 190.7+ KB\n",
            "None\n",
            "<class 'pandas.core.frame.DataFrame'>\n",
            "RangeIndex: 5227 entries, 0 to 5226\n",
            "Data columns (total 1 columns):\n",
            " #   Column       Non-Null Count  Dtype \n",
            "---  ------       --------------  ----- \n",
            " 0   image_names  5227 non-null   object\n",
            "dtypes: object(1)\n",
            "memory usage: 41.0+ KB\n",
            "None\n"
          ]
        }
      ],
      "source": [
        "# train data\n",
        "train_data = pd.read_csv(s3_funcs.read_object(key='gender_clf/train/train.csv'))\n",
        "print(train_data.info())\n",
        "\n",
        "# test data\n",
        "test_data = pd.read_csv(s3_funcs.read_object(key='gender_clf/test.csv'))\n",
        "print(test_data.info())"
      ]
    },
    {
      "cell_type": "code",
      "execution_count": 7,
      "metadata": {
        "colab": {
          "base_uri": "https://localhost:8080/"
        },
        "id": "0_rCY52BwRof",
        "outputId": "b3704081-4431-4245-9104-76dcb9fb271a"
      },
      "outputs": [
        {
          "data": {
            "text/plain": [
              "1    6174\n",
              "0    6022\n",
              "Name: class, dtype: int64"
            ]
          },
          "execution_count": 7,
          "metadata": {},
          "output_type": "execute_result"
        }
      ],
      "source": [
        "train_data['class'].value_counts()"
      ]
    },
    {
      "cell_type": "code",
      "execution_count": 8,
      "metadata": {
        "colab": {
          "base_uri": "https://localhost:8080/",
          "height": 433,
          "referenced_widgets": [
            "30ce900f0f8241cba068121340b7edcf",
            "8759c4322a7d4be083ed3198f21afd1b",
            "3f1faa94a2b24605997efbf86af8a3cb",
            "ff9495bbef0345f5aa9bfa58197f8163",
            "6383cf20432140d3bd3edff491dce402",
            "1af694a1c6824cffa2c082af0e1f4130",
            "72b374f23b3c400db5f72fe1ca77beea",
            "ab7947fce8c34ce5a535a882fbe1eebc",
            "30e918847cc54561af530f57ded1e6df",
            "81a0e7967d1346489fb2751d4e75c274",
            "26b91db55ede415bb44ff148c712edc3"
          ]
        },
        "id": "5yFPGBR_wYAP",
        "outputId": "a9fbbc92-d4dd-4e40-d6bb-5eea8b3d5e30"
      },
      "outputs": [
        {
          "data": {
            "application/vnd.jupyter.widget-view+json": {
              "model_id": "6602aadd2c774071b8dcbabc7cc466cd",
              "version_major": 2,
              "version_minor": 0
            },
            "text/plain": [
              "  0%|          | 0/5000 [00:00<?, ?it/s]"
            ]
          },
          "metadata": {},
          "output_type": "display_data"
        }
      ],
      "source": [
        "# load images\n",
        "IMAGES_PATH = 'gender_clf/train/images/'\n",
        "\n",
        "X = []\n",
        "not_found = []\n",
        "num_images_read = 5000\n",
        "#for img_name in tqdm(train_data.image_names):\n",
        "for img_name in tqdm(train_data.image_names[:num_images_read]):\n",
        "  img = s3_funcs.read_image(key=IMAGES_PATH+img_name)\n",
        "  X.append(img)\n",
        "\n",
        "X = np.array(X)"
      ]
    },
    {
      "cell_type": "code",
      "execution_count": 9,
      "metadata": {
        "colab": {
          "base_uri": "https://localhost:8080/"
        },
        "id": "Ju8nZMz98jbU",
        "outputId": "188b948c-6e17-44ee-b265-2f5969f43d73"
      },
      "outputs": [
        {
          "data": {
            "text/plain": [
              "(5000, 224, 224, 3)"
            ]
          },
          "execution_count": 9,
          "metadata": {},
          "output_type": "execute_result"
        }
      ],
      "source": [
        "X.shape"
      ]
    },
    {
      "cell_type": "code",
      "execution_count": 10,
      "metadata": {
        "id": "ogSuvSfOd3jy"
      },
      "outputs": [
        {
          "data": {
            "text/plain": [
              "(5000, 150528)"
            ]
          },
          "execution_count": 10,
          "metadata": {},
          "output_type": "execute_result"
        }
      ],
      "source": [
        "# preprocessing\n",
        "# converting into 1-d array cause MLP works with 1-d arrays\n",
        "X = X.reshape(X.shape[0], 224*224*3)\n",
        "X.shape"
      ]
    },
    {
      "cell_type": "code",
      "execution_count": 11,
      "metadata": {},
      "outputs": [
        {
          "data": {
            "text/plain": [
              "(0, 255)"
            ]
          },
          "execution_count": 11,
          "metadata": {},
          "output_type": "execute_result"
        }
      ],
      "source": [
        "X.min(), X.max()"
      ]
    },
    {
      "cell_type": "code",
      "execution_count": 12,
      "metadata": {
        "id": "rme8FC8Sw7z2"
      },
      "outputs": [
        {
          "data": {
            "text/plain": [
              "(0.0, 1.0)"
            ]
          },
          "execution_count": 12,
          "metadata": {},
          "output_type": "execute_result"
        }
      ],
      "source": [
        "# normalizar pixeles\n",
        "X = X / X.max()\n",
        "\n",
        "X.min(), X.max()"
      ]
    },
    {
      "cell_type": "code",
      "execution_count": 13,
      "metadata": {
        "id": "OSoKeqQyG4iG"
      },
      "outputs": [],
      "source": [
        "# split dataset\n",
        "y = train_data['class'].values[:num_images_read]\n",
        "X_train, X_valid, y_train, y_valid = train_test_split(\n",
        "    X,\n",
        "    y,\n",
        "    test_size=0.2,\n",
        "    random_state=seed\n",
        ")"
      ]
    },
    {
      "cell_type": "code",
      "execution_count": 14,
      "metadata": {
        "id": "CUWIybOPGvw1"
      },
      "outputs": [],
      "source": [
        "# Model architecture\n",
        "#from tensorflow.keras.preprocessing.image import ImageGenerator\n",
        "from keras.layers import (\n",
        "    InputLayer,\n",
        "    Dense,\n",
        "    Dropout,\n",
        "    BatchNormalization,\n",
        "    Flatten\n",
        "    )\n",
        "from keras.initializers import glorot_normal\n",
        "from keras.callbacks import (\n",
        "    EarlyStopping,\n",
        "    ModelCheckpoint\n",
        "    )\n",
        "from keras.models import Sequential\n",
        "from keras.optimizers import Adam"
      ]
    },
    {
      "cell_type": "code",
      "execution_count": 16,
      "metadata": {
        "id": "vlNKGygzMiss"
      },
      "outputs": [],
      "source": [
        "#image_augmentation = ImageGenerator(\n",
        "#    rotation_image=45,\n",
        "#    width_shift_range=40,\n",
        "#    height_shift_range=40,\n",
        "#    horizontal_flip=True,\n",
        "#    vertical_flip=True,\n",
        "#    fill_mode='nearest'\n",
        "#)\n",
        "#image_augmentation.fit(X_train)"
      ]
    },
    {
      "cell_type": "code",
      "execution_count": 20,
      "metadata": {
        "id": "4bl5IpCEGvr7"
      },
      "outputs": [
        {
          "name": "stdout",
          "output_type": "stream",
          "text": [
            "Model: \"sequential_1\"\n",
            "_________________________________________________________________\n",
            " Layer (type)                Output Shape              Param #   \n",
            "=================================================================\n",
            " flatten_1 (Flatten)         (None, 150528)            0         \n",
            "                                                                 \n",
            " dense_3 (Dense)             (None, 100)               15052900  \n"
          ]
        },
        {
          "name": "stdout",
          "output_type": "stream",
          "text": [
            "                                                                 \n",
            " batch_normalization_2 (Batc  (None, 100)              400       \n",
            " hNormalization)                                                 \n",
            "                                                                 \n",
            " dropout_2 (Dropout)         (None, 100)               0         \n",
            "                                                                 \n",
            " dense_4 (Dense)             (None, 100)               10100     \n",
            "                                                                 \n",
            " batch_normalization_3 (Batc  (None, 100)              400       \n",
            " hNormalization)                                                 \n",
            "                                                                 \n",
            " dropout_3 (Dropout)         (None, 100)               0         \n",
            "                                                                 \n",
            " dense_5 (Dense)             (None, 1)                 101       \n",
            "                                                                 \n",
            "=================================================================\n",
            "Total params: 15,063,901\n",
            "Trainable params: 15,063,501\n",
            "Non-trainable params: 400\n",
            "_________________________________________________________________\n"
          ]
        }
      ],
      "source": [
        "model = Sequential()\n",
        "model.add(InputLayer(input_shape=X_train.shape[1]))\n",
        "model.add(Flatten())\n",
        "model.add(Dense(units=100, activation='relu', kernel_initializer=glorot_normal(seed=seed)))\n",
        "model.add(BatchNormalization())\n",
        "model.add(Dropout(rate=0.5))\n",
        "model.add(Dense(units=100, activation='relu'))\n",
        "model.add(BatchNormalization())\n",
        "model.add(Dropout(rate=0.5))\n",
        "model.add(Dense(units=1, activation='sigmoid'))\n",
        "\n",
        "\n",
        "model.summary()"
      ]
    },
    {
      "cell_type": "code",
      "execution_count": 17,
      "metadata": {
        "id": "lPpVLHSuGvug"
      },
      "outputs": [],
      "source": [
        "# define earlystopping\n",
        "early_stopping = EarlyStopping(\n",
        "    monitor='val_loss',\n",
        "    min_delta=0.01,\n",
        "    patience=5,\n",
        "    mode='min'\n",
        ")\n",
        "# optimizer\n",
        "adam = Adam(learning_rate=1e-5, clipvalue=1)\n",
        "\n",
        "# model checkpointing\n",
        "filepath = '../module/models/best_weights.hdf5'\n",
        "checkpoint = ModelCheckpoint(filepath, monitor='val_loss', mode='min')\n",
        "callbacks_list = [early_stopping, checkpoint]"
      ]
    },
    {
      "cell_type": "code",
      "execution_count": 21,
      "metadata": {
        "id": "XesxT9pZJ56Z"
      },
      "outputs": [],
      "source": [
        "model.compile(\n",
        "    loss='binary_crossentropy',\n",
        "    optimizer=adam,\n",
        "    metrics=['accuracy']\n",
        ")"
      ]
    },
    {
      "cell_type": "code",
      "execution_count": 22,
      "metadata": {
        "id": "LRa0AZGRMNAr"
      },
      "outputs": [
        {
          "name": "stderr",
          "output_type": "stream",
          "text": [
            "2024-04-10 23:30:53.477389: W tensorflow/core/framework/cpu_allocator_impl.cc:82] Allocation of 2408448000 exceeds 10% of free system memory.\n",
            "2024-04-10 23:30:56.293132: W tensorflow/core/framework/cpu_allocator_impl.cc:82] Allocation of 2408448000 exceeds 10% of free system memory.\n"
          ]
        },
        {
          "name": "stdout",
          "output_type": "stream",
          "text": [
            "Epoch 1/50\n",
            "125/125 [==============================] - 9s 45ms/step - loss: 0.8155 - accuracy: 0.6135 - val_loss: 0.5942 - val_accuracy: 0.7040\n",
            "Epoch 2/50\n",
            "125/125 [==============================] - 4s 29ms/step - loss: 0.7357 - accuracy: 0.6400 - val_loss: 0.5836 - val_accuracy: 0.7350\n",
            "Epoch 3/50\n",
            "125/125 [==============================] - 3s 27ms/step - loss: 0.7208 - accuracy: 0.6478 - val_loss: 0.5726 - val_accuracy: 0.7260\n",
            "Epoch 4/50\n",
            "125/125 [==============================] - 3s 27ms/step - loss: 0.7090 - accuracy: 0.6503 - val_loss: 0.5312 - val_accuracy: 0.7420\n",
            "Epoch 5/50\n",
            "125/125 [==============================] - 4s 29ms/step - loss: 0.6873 - accuracy: 0.6710 - val_loss: 0.6090 - val_accuracy: 0.6680\n",
            "Epoch 6/50\n",
            "125/125 [==============================] - 4s 29ms/step - loss: 0.6879 - accuracy: 0.6587 - val_loss: 0.5325 - val_accuracy: 0.7430\n",
            "Epoch 7/50\n",
            "125/125 [==============================] - 4s 29ms/step - loss: 0.6882 - accuracy: 0.6680 - val_loss: 0.5773 - val_accuracy: 0.7280\n",
            "Epoch 8/50\n",
            "125/125 [==============================] - 4s 29ms/step - loss: 0.6781 - accuracy: 0.6755 - val_loss: 0.5172 - val_accuracy: 0.7520\n",
            "Epoch 9/50\n",
            "125/125 [==============================] - 4s 29ms/step - loss: 0.6604 - accuracy: 0.6815 - val_loss: 0.7191 - val_accuracy: 0.6170\n",
            "Epoch 10/50\n",
            "125/125 [==============================] - 4s 29ms/step - loss: 0.6650 - accuracy: 0.6745 - val_loss: 0.5312 - val_accuracy: 0.7380\n",
            "Epoch 11/50\n",
            "125/125 [==============================] - 4s 29ms/step - loss: 0.6691 - accuracy: 0.6747 - val_loss: 0.5236 - val_accuracy: 0.7360\n",
            "Epoch 12/50\n",
            "125/125 [==============================] - 4s 29ms/step - loss: 0.6450 - accuracy: 0.6835 - val_loss: 0.5657 - val_accuracy: 0.7110\n",
            "Epoch 13/50\n",
            "125/125 [==============================] - 4s 28ms/step - loss: 0.6757 - accuracy: 0.6655 - val_loss: 0.5588 - val_accuracy: 0.7120\n"
          ]
        }
      ],
      "source": [
        "model_history = model.fit(\n",
        "    x=X_train,\n",
        "    y=y_train,\n",
        "    validation_data=(X_valid, y_valid),\n",
        "    epochs=50,\n",
        "    callbacks=callbacks_list\n",
        ")"
      ]
    },
    {
      "cell_type": "code",
      "execution_count": 23,
      "metadata": {
        "id": "-CR97_TORDbN"
      },
      "outputs": [
        {
          "data": {
            "image/png": "[encoded data removed]",
            "text/plain": [
              "<Figure size 640x480 with 1 Axes>"
            ]
          },
          "metadata": {},
          "output_type": "display_data"
        }
      ],
      "source": [
        "# summarize history for loss\n",
        "plt.plot(model_history.history['loss'])\n",
        "plt.plot(model_history.history['val_loss'])\n",
        "plt.title('model loss')\n",
        "plt.ylabel('loss')\n",
        "plt.xlabel('epoch')\n",
        "plt.legend(['train', 'validation'],loc='upper left')\n",
        "plt.show()"
      ]
    },
    {
      "cell_type": "code",
      "execution_count": null,
      "metadata": {},
      "outputs": [],
      "source": []
    }
  ],
  "metadata": {
    "accelerator": "GPU",
    "colab": {
      "gpuType": "T4",
      "provenance": []
    },
    "kernelspec": {
      "display_name": "Python 3",
      "name": "python3"
    },
    "language_info": {
      "codemirror_mode": {
        "name": "ipython",
        "version": 3
      },
      "file_extension": ".py",
      "mimetype": "text/x-python",
      "name": "python",
      "nbconvert_exporter": "python",
      "pygments_lexer": "ipython3",
      "version": "3.9.16"
    },
    "widgets": {
      "application/vnd.jupyter.widget-state+json": {
        "1af694a1c6824cffa2c082af0e1f4130": {
          "model_module": "@jupyter-widgets/base",
          "model_module_version": "1.2.0",
          "model_name": "LayoutModel",
          "state": {
            "_model_module": "@jupyter-widgets/base",
            "_model_module_version": "1.2.0",
            "_model_name": "LayoutModel",
            "_view_count": null,
            "_view_module": "@jupyter-widgets/base",
            "_view_module_version": "1.2.0",
            "_view_name": "LayoutView",
            "align_content": null,
            "align_items": null,
            "align_self": null,
            "border": null,
            "bottom": null,
            "display": null,
            "flex": null,
            "flex_flow": null,
            "grid_area": null,
            "grid_auto_columns": null,
            "grid_auto_flow": null,
            "grid_auto_rows": null,
            "grid_column": null,
            "grid_gap": null,
            "grid_row": null,
            "grid_template_areas": null,
            "grid_template_columns": null,
            "grid_template_rows": null,
            "height": null,
            "justify_content": null,
            "justify_items": null,
            "left": null,
            "margin": null,
            "max_height": null,
            "max_width": null,
            "min_height": null,
            "min_width": null,
            "object_fit": null,
            "object_position": null,
            "order": null,
            "overflow": null,
            "overflow_x": null,
            "overflow_y": null,
            "padding": null,
            "right": null,
            "top": null,
            "visibility": null,
            "width": null
          }
        },
        "26b91db55ede415bb44ff148c712edc3": {
          "model_module": "@jupyter-widgets/controls",
          "model_module_version": "1.5.0",
          "model_name": "DescriptionStyleModel",
          "state": {
            "_model_module": "@jupyter-widgets/controls",
            "_model_module_version": "1.5.0",
            "_model_name": "DescriptionStyleModel",
            "_view_count": null,
            "_view_module": "@jupyter-widgets/base",
            "_view_module_version": "1.2.0",
            "_view_name": "StyleView",
            "description_width": ""
          }
        },
        "30ce900f0f8241cba068121340b7edcf": {
          "model_module": "@jupyter-widgets/controls",
          "model_module_version": "1.5.0",
          "model_name": "HBoxModel",
          "state": {
            "_dom_classes": [],
            "_model_module": "@jupyter-widgets/controls",
            "_model_module_version": "1.5.0",
            "_model_name": "HBoxModel",
            "_view_count": null,
            "_view_module": "@jupyter-widgets/controls",
            "_view_module_version": "1.5.0",
            "_view_name": "HBoxView",
            "box_style": "",
            "children": [
              "IPY_MODEL_8759c4322a7d4be083ed3198f21afd1b",
              "IPY_MODEL_3f1faa94a2b24605997efbf86af8a3cb",
              "IPY_MODEL_ff9495bbef0345f5aa9bfa58197f8163"
            ],
            "layout": "IPY_MODEL_6383cf20432140d3bd3edff491dce402"
          }
        },
        "30e918847cc54561af530f57ded1e6df": {
          "model_module": "@jupyter-widgets/controls",
          "model_module_version": "1.5.0",
          "model_name": "ProgressStyleModel",
          "state": {
            "_model_module": "@jupyter-widgets/controls",
            "_model_module_version": "1.5.0",
            "_model_name": "ProgressStyleModel",
            "_view_count": null,
            "_view_module": "@jupyter-widgets/base",
            "_view_module_version": "1.2.0",
            "_view_name": "StyleView",
            "bar_color": null,
            "description_width": ""
          }
        },
        "3f1faa94a2b24605997efbf86af8a3cb": {
          "model_module": "@jupyter-widgets/controls",
          "model_module_version": "1.5.0",
          "model_name": "FloatProgressModel",
          "state": {
            "_dom_classes": [],
            "_model_module": "@jupyter-widgets/controls",
            "_model_module_version": "1.5.0",
            "_model_name": "FloatProgressModel",
            "_view_count": null,
            "_view_module": "@jupyter-widgets/controls",
            "_view_module_version": "1.5.0",
            "_view_name": "ProgressView",
            "bar_style": "danger",
            "description": "",
            "description_tooltip": null,
            "layout": "IPY_MODEL_ab7947fce8c34ce5a535a882fbe1eebc",
            "max": 2500,
            "min": 0,
            "orientation": "horizontal",
            "style": "IPY_MODEL_30e918847cc54561af530f57ded1e6df",
            "value": 0
          }
        },
        "6383cf20432140d3bd3edff491dce402": {
          "model_module": "@jupyter-widgets/base",
          "model_module_version": "1.2.0",
          "model_name": "LayoutModel",
          "state": {
            "_model_module": "@jupyter-widgets/base",
            "_model_module_version": "1.2.0",
            "_model_name": "LayoutModel",
            "_view_count": null,
            "_view_module": "@jupyter-widgets/base",
            "_view_module_version": "1.2.0",
            "_view_name": "LayoutView",
            "align_content": null,
            "align_items": null,
            "align_self": null,
            "border": null,
            "bottom": null,
            "display": null,
            "flex": null,
            "flex_flow": null,
            "grid_area": null,
            "grid_auto_columns": null,
            "grid_auto_flow": null,
            "grid_auto_rows": null,
            "grid_column": null,
            "grid_gap": null,
            "grid_row": null,
            "grid_template_areas": null,
            "grid_template_columns": null,
            "grid_template_rows": null,
            "height": null,
            "justify_content": null,
            "justify_items": null,
            "left": null,
            "margin": null,
            "max_height": null,
            "max_width": null,
            "min_height": null,
            "min_width": null,
            "object_fit": null,
            "object_position": null,
            "order": null,
            "overflow": null,
            "overflow_x": null,
            "overflow_y": null,
            "padding": null,
            "right": null,
            "top": null,
            "visibility": null,
            "width": null
          }
        },
        "72b374f23b3c400db5f72fe1ca77beea": {
          "model_module": "@jupyter-widgets/controls",
          "model_module_version": "1.5.0",
          "model_name": "DescriptionStyleModel",
          "state": {
            "_model_module": "@jupyter-widgets/controls",
            "_model_module_version": "1.5.0",
            "_model_name": "DescriptionStyleModel",
            "_view_count": null,
            "_view_module": "@jupyter-widgets/base",
            "_view_module_version": "1.2.0",
            "_view_name": "StyleView",
            "description_width": ""
          }
        },
        "81a0e7967d1346489fb2751d4e75c274": {
          "model_module": "@jupyter-widgets/base",
          "model_module_version": "1.2.0",
          "model_name": "LayoutModel",
          "state": {
            "_model_module": "@jupyter-widgets/base",
            "_model_module_version": "1.2.0",
            "_model_name": "LayoutModel",
            "_view_count": null,
            "_view_module": "@jupyter-widgets/base",
            "_view_module_version": "1.2.0",
            "_view_name": "LayoutView",
            "align_content": null,
            "align_items": null,
            "align_self": null,
            "border": null,
            "bottom": null,
            "display": null,
            "flex": null,
            "flex_flow": null,
            "grid_area": null,
            "grid_auto_columns": null,
            "grid_auto_flow": null,
            "grid_auto_rows": null,
            "grid_column": null,
            "grid_gap": null,
            "grid_row": null,
            "grid_template_areas": null,
            "grid_template_columns": null,
            "grid_template_rows": null,
            "height": null,
            "justify_content": null,
            "justify_items": null,
            "left": null,
            "margin": null,
            "max_height": null,
            "max_width": null,
            "min_height": null,
            "min_width": null,
            "object_fit": null,
            "object_position": null,
            "order": null,
            "overflow": null,
            "overflow_x": null,
            "overflow_y": null,
            "padding": null,
            "right": null,
            "top": null,
            "visibility": null,
            "width": null
          }
        },
        "8759c4322a7d4be083ed3198f21afd1b": {
          "model_module": "@jupyter-widgets/controls",
          "model_module_version": "1.5.0",
          "model_name": "HTMLModel",
          "state": {
            "_dom_classes": [],
            "_model_module": "@jupyter-widgets/controls",
            "_model_module_version": "1.5.0",
            "_model_name": "HTMLModel",
            "_view_count": null,
            "_view_module": "@jupyter-widgets/controls",
            "_view_module_version": "1.5.0",
            "_view_name": "HTMLView",
            "description": "",
            "description_tooltip": null,
            "layout": "IPY_MODEL_1af694a1c6824cffa2c082af0e1f4130",
            "placeholder": "​",
            "style": "IPY_MODEL_72b374f23b3c400db5f72fe1ca77beea",
            "value": "  0%"
          }
        },
        "ab7947fce8c34ce5a535a882fbe1eebc": {
          "model_module": "@jupyter-widgets/base",
          "model_module_version": "1.2.0",
          "model_name": "LayoutModel",
          "state": {
            "_model_module": "@jupyter-widgets/base",
            "_model_module_version": "1.2.0",
            "_model_name": "LayoutModel",
            "_view_count": null,
            "_view_module": "@jupyter-widgets/base",
            "_view_module_version": "1.2.0",
            "_view_name": "LayoutView",
            "align_content": null,
            "align_items": null,
            "align_self": null,
            "border": null,
            "bottom": null,
            "display": null,
            "flex": null,
            "flex_flow": null,
            "grid_area": null,
            "grid_auto_columns": null,
            "grid_auto_flow": null,
            "grid_auto_rows": null,
            "grid_column": null,
            "grid_gap": null,
            "grid_row": null,
            "grid_template_areas": null,
            "grid_template_columns": null,
            "grid_template_rows": null,
            "height": null,
            "justify_content": null,
            "justify_items": null,
            "left": null,
            "margin": null,
            "max_height": null,
            "max_width": null,
            "min_height": null,
            "min_width": null,
            "object_fit": null,
            "object_position": null,
            "order": null,
            "overflow": null,
            "overflow_x": null,
            "overflow_y": null,
            "padding": null,
            "right": null,
            "top": null,
            "visibility": null,
            "width": null
          }
        },
        "ff9495bbef0345f5aa9bfa58197f8163": {
          "model_module": "@jupyter-widgets/controls",
          "model_module_version": "1.5.0",
          "model_name": "HTMLModel",
          "state": {
            "_dom_classes": [],
            "_model_module": "@jupyter-widgets/controls",
            "_model_module_version": "1.5.0",
            "_model_name": "HTMLModel",
            "_view_count": null,
            "_view_module": "@jupyter-widgets/controls",
            "_view_module_version": "1.5.0",
            "_view_name": "HTMLView",
            "description": "",
            "description_tooltip": null,
            "layout": "IPY_MODEL_81a0e7967d1346489fb2751d4e75c274",
            "placeholder": "​",
            "style": "IPY_MODEL_26b91db55ede415bb44ff148c712edc3",
            "value": " 0/2500 [01:15&lt;?, ?it/s]"
          }
        }
      }
    }
  },
  "nbformat": 4,
  "nbformat_minor": 0
}
