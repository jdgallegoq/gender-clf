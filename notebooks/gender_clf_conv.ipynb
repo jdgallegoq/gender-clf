{
 "cells": [
  {
   "cell_type": "markdown",
   "metadata": {},
   "source": [
    "# Conv NN"
   ]
  },
  {
   "cell_type": "markdown",
   "metadata": {},
   "source": [
    "<ol>1. Loading the dataset</ol>\n",
    "<ol>2. Pre-processing the data</ol>\n",
    "<ol>3. Creating training and validation set</ol>\n",
    "<ol>4. Defining the model architecture</ol>\n",
    "<ol>5. Compiling the model</ol>\n",
    "<ol>6. Training the model</ol>\n",
    "<ol>7. Evaluating model performance</ol>"
   ]
  },
  {
   "cell_type": "code",
   "execution_count": 1,
   "metadata": {},
   "outputs": [
    {
     "name": "stdout",
     "output_type": "stream",
     "text": [
      "tensorflow version:  2.9.2\n",
      "keras version:  2.9.0\n"
     ]
    }
   ],
   "source": [
    "import tensorflow as tf\n",
    "import keras\n",
    "print('tensorflow version: ', tf.__version__)\n",
    "print('keras version: ', keras.__version__)"
   ]
  },
  {
   "cell_type": "code",
   "execution_count": 2,
   "metadata": {},
   "outputs": [
    {
     "name": "stdout",
     "output_type": "stream",
     "text": [
      "Device mapping:\n",
      "/job:localhost/replica:0/task:0/device:GPU:0 -> device: 0, name: Quadro P4000, pci bus id: 0000:00:05.0, compute capability: 6.1\n",
      "\n"
     ]
    }
   ],
   "source": [
    "# define sess to use gpu\n",
    "sess = tf.compat.v1.Session(config=tf.compat.v1.ConfigProto(log_device_placement=True))"
   ]
  },
  {
   "cell_type": "code",
   "execution_count": 3,
   "metadata": {},
   "outputs": [],
   "source": [
    "# import necessary libraries and functions\n",
    "import os\n",
    "import joblib\n",
    "import numpy as np\n",
    "import pandas as pd\n",
    "from glob import glob\n",
    "import matplotlib.pyplot as plt\n",
    "%matplotlib inline\n",
    "\n",
    "from keras.layers import Dense, InputLayer\n",
    "from keras.models import Sequential\n",
    "\n",
    "from tqdm.notebook import tqdm\n",
    "\n",
    "from sklearn.model_selection import train_test_split\n",
    "from sklearn.metrics import accuracy_score"
   ]
  },
  {
   "cell_type": "code",
   "execution_count": 4,
   "metadata": {},
   "outputs": [],
   "source": [
    "import sys\n",
    "\n",
    "sys.path.append('..')\n",
    "from utils.s3_class import S3Functions\n",
    "s3_funcs = S3Functions(bucket_name='jdgallegoq-pinacle')"
   ]
  },
  {
   "cell_type": "code",
   "execution_count": 5,
   "metadata": {},
   "outputs": [],
   "source": [
    "# create random number generator\n",
    "seed = 42\n",
    "rng = np.random.RandomState(seed)"
   ]
  },
  {
   "cell_type": "code",
   "execution_count": 6,
   "metadata": {},
   "outputs": [
    {
     "name": "stdout",
     "output_type": "stream",
     "text": [
      "<class 'pandas.core.frame.DataFrame'>\n",
      "RangeIndex: 12196 entries, 0 to 12195\n",
      "Data columns (total 2 columns):\n",
      " #   Column       Non-Null Count  Dtype \n",
      "---  ------       --------------  ----- \n",
      " 0   image_names  12196 non-null  object\n",
      " 1   class        12196 non-null  int64 \n",
      "dtypes: int64(1), object(1)\n",
      "memory usage: 190.7+ KB\n",
      "None\n",
      "<class 'pandas.core.frame.DataFrame'>\n",
      "RangeIndex: 5227 entries, 0 to 5226\n",
      "Data columns (total 1 columns):\n",
      " #   Column       Non-Null Count  Dtype \n",
      "---  ------       --------------  ----- \n",
      " 0   image_names  5227 non-null   object\n",
      "dtypes: object(1)\n",
      "memory usage: 41.0+ KB\n",
      "None\n"
     ]
    }
   ],
   "source": [
    "# train data\n",
    "train_data = pd.read_csv(s3_funcs.read_object(key='gender_clf/train/train.csv'))\n",
    "print(train_data.info())\n",
    "\n",
    "# test data\n",
    "test_data = pd.read_csv(s3_funcs.read_object(key='gender_clf/test.csv'))\n",
    "print(test_data.info())"
   ]
  },
  {
   "cell_type": "code",
   "execution_count": 7,
   "metadata": {},
   "outputs": [
    {
     "data": {
      "text/plain": [
       "1    6174\n",
       "0    6022\n",
       "Name: class, dtype: int64"
      ]
     },
     "execution_count": 7,
     "metadata": {},
     "output_type": "execute_result"
    }
   ],
   "source": [
    "train_data['class'].value_counts()"
   ]
  },
  {
   "cell_type": "code",
   "execution_count": 8,
   "metadata": {},
   "outputs": [
    {
     "data": {
      "application/vnd.jupyter.widget-view+json": {
       "model_id": "e75266d9a3534507ac8dfef83bd62a0b",
       "version_major": 2,
       "version_minor": 0
      },
      "text/plain": [
       "  0%|          | 0/5000 [00:00<?, ?it/s]"
      ]
     },
     "metadata": {},
     "output_type": "display_data"
    }
   ],
   "source": [
    "# load images\n",
    "IMAGES_PATH = 'gender_clf/train/images/'\n",
    "\n",
    "X = []\n",
    "not_found = []\n",
    "num_images_read = 5000\n",
    "#for img_name in tqdm(train_data.image_names):\n",
    "for img_name in tqdm(train_data.image_names[:num_images_read]):\n",
    "  img = s3_funcs.read_image(key=IMAGES_PATH+img_name)\n",
    "  X.append(img)\n",
    "\n",
    "X = np.array(X)"
   ]
  },
  {
   "cell_type": "code",
   "execution_count": 9,
   "metadata": {},
   "outputs": [],
   "source": [
    "# preprocess scaing pixels\n",
    "X = X / X.max()"
   ]
  },
  {
   "cell_type": "code",
   "execution_count": 10,
   "metadata": {},
   "outputs": [],
   "source": [
    "# split dataset\n",
    "y = train_data['class'].values[:num_images_read]\n",
    "X_train, X_valid, y_train, y_valid = train_test_split(\n",
    "    X,\n",
    "    y,\n",
    "    test_size=0.2,\n",
    "    random_state=seed\n",
    ")\n",
    "\n",
    "del X"
   ]
  },
  {
   "cell_type": "code",
   "execution_count": 12,
   "metadata": {},
   "outputs": [],
   "source": [
    "# Model architecture\n",
    "#from tensorflow.keras.preprocessing.image import ImageGenerator\n",
    "from keras.layers import (\n",
    "    InputLayer,\n",
    "    Dense,\n",
    "    Dropout,\n",
    "    BatchNormalization,\n",
    "    Flatten,\n",
    "    Conv2D,\n",
    "    MaxPool2D\n",
    "    )\n",
    "from keras.models import Sequential\n",
    "from keras.optimizers import Adam"
   ]
  },
  {
   "cell_type": "code",
   "execution_count": 14,
   "metadata": {},
   "outputs": [
    {
     "name": "stdout",
     "output_type": "stream",
     "text": [
      "Model: \"sequential_1\"\n",
      "_________________________________________________________________\n",
      " Layer (type)                Output Shape              Param #   \n",
      "=================================================================\n",
      " conv2d_3 (Conv2D)           (None, 220, 220, 25)      1900      \n",
      "                                                                 \n",
      " max_pooling2d_3 (MaxPooling  (None, 55, 55, 25)       0         \n",
      " 2D)                                                             \n",
      "                                                                 \n",
      " conv2d_4 (Conv2D)           (None, 51, 51, 50)        31300     \n",
      "                                                                 \n",
      " max_pooling2d_4 (MaxPooling  (None, 12, 12, 50)       0         \n",
      " 2D)                                                             \n",
      "                                                                 \n",
      " conv2d_5 (Conv2D)           (None, 8, 8, 50)          62550     \n",
      "                                                                 \n",
      " max_pooling2d_5 (MaxPooling  (None, 2, 2, 50)         0         \n",
      " 2D)                                                             \n",
      "                                                                 \n",
      " flatten_1 (Flatten)         (None, 200)               0         \n",
      "                                                                 \n",
      " dense_3 (Dense)             (None, 100)               20100     \n",
      "                                                                 \n",
      " dropout_2 (Dropout)         (None, 100)               0         \n",
      "                                                                 \n",
      " batch_normalization_2 (Batc  (None, 100)              400       \n",
      " hNormalization)                                                 \n",
      "                                                                 \n",
      " dense_4 (Dense)             (None, 100)               10100     \n",
      "                                                                 \n",
      " dropout_3 (Dropout)         (None, 100)               0         \n",
      "                                                                 \n",
      " batch_normalization_3 (Batc  (None, 100)              400       \n",
      " hNormalization)                                                 \n",
      "                                                                 \n",
      " dense_5 (Dense)             (None, 1)                 101       \n",
      "                                                                 \n",
      "=================================================================\n",
      "Total params: 126,851\n",
      "Trainable params: 126,451\n",
      "Non-trainable params: 400\n",
      "_________________________________________________________________\n"
     ]
    }
   ],
   "source": [
    "model = Sequential()\n",
    "# X train has 3 channels so features are pixels per channel\n",
    "model.add(InputLayer(input_shape=X_train.shape[1:]))\n",
    "model.add(Conv2D(25, (5, 5), activation='relu', strides=(1, 1), padding='valid'))\n",
    "# add maxpools after conv layers\n",
    "model.add(MaxPool2D(pool_size=(4, 4), padding='valid'))\n",
    "model.add(Conv2D(50, (5, 5), activation='relu', strides=(1, 1), padding='valid'))\n",
    "model.add(MaxPool2D(pool_size=(4, 4), padding='valid'))\n",
    "model.add(Conv2D(50, (5, 5), activation='relu', strides=(1, 1), padding='valid'))\n",
    "model.add(MaxPool2D(pool_size=(4, 4), padding='valid'))\n",
    "# flatten so it can be passed to a dense layer\n",
    "model.add(Flatten())\n",
    "# add dense layers\n",
    "model.add(Dense(units=100, activation='sigmoid'))\n",
    "# dropout to avoid overfitting\n",
    "model.add(Dropout(rate=0.6))\n",
    "# add batch normalization to maintain vector values normalized\n",
    "model.add(BatchNormalization())\n",
    "model.add(Dense(units=100, activation='sigmoid'))\n",
    "model.add(Dropout(rate=0.6))\n",
    "model.add(BatchNormalization())\n",
    "# final layer\n",
    "model.add(Dense(units=1, activation='sigmoid'))\n",
    "\n",
    "# print summary\n",
    "model.summary()"
   ]
  },
  {
   "cell_type": "code",
   "execution_count": 15,
   "metadata": {},
   "outputs": [],
   "source": [
    "# compile\n",
    "adam = Adam(learning_rate=1e-5, clipvalue=1)\n",
    "model.compile(\n",
    "    loss='binary_crossentropy',\n",
    "    optimizer=adam,\n",
    "    metrics=['accuracy']\n",
    ")"
   ]
  },
  {
   "cell_type": "code",
   "execution_count": 16,
   "metadata": {},
   "outputs": [
    {
     "name": "stderr",
     "output_type": "stream",
     "text": [
      "2024-04-11 22:57:45.101458: W tensorflow/core/framework/cpu_allocator_impl.cc:82] Allocation of 2408448000 exceeds 10% of free system memory.\n",
      "2024-04-11 22:57:48.311093: W tensorflow/core/framework/cpu_allocator_impl.cc:82] Allocation of 2408448000 exceeds 10% of free system memory.\n"
     ]
    },
    {
     "name": "stdout",
     "output_type": "stream",
     "text": [
      "Epoch 1/10\n",
      "32/32 [==============================] - 16s 209ms/step - loss: 0.9307 - accuracy: 0.5035 - val_loss: 0.8202 - val_accuracy: 0.4930\n",
      "Epoch 2/10\n",
      "32/32 [==============================] - 4s 136ms/step - loss: 0.9230 - accuracy: 0.4845 - val_loss: 0.7738 - val_accuracy: 0.4930\n",
      "Epoch 3/10\n",
      "32/32 [==============================] - 4s 136ms/step - loss: 0.9087 - accuracy: 0.5023 - val_loss: 0.7401 - val_accuracy: 0.4930\n",
      "Epoch 4/10\n",
      "32/32 [==============================] - 4s 133ms/step - loss: 0.8930 - accuracy: 0.5088 - val_loss: 0.7189 - val_accuracy: 0.4930\n",
      "Epoch 5/10\n",
      "32/32 [==============================] - 4s 135ms/step - loss: 0.9153 - accuracy: 0.4940 - val_loss: 0.7058 - val_accuracy: 0.4930\n",
      "Epoch 6/10\n",
      "32/32 [==============================] - 4s 134ms/step - loss: 0.9076 - accuracy: 0.5020 - val_loss: 0.6984 - val_accuracy: 0.4930\n",
      "Epoch 7/10\n",
      "32/32 [==============================] - 4s 135ms/step - loss: 0.9145 - accuracy: 0.5110 - val_loss: 0.6931 - val_accuracy: 0.4930\n",
      "Epoch 8/10\n",
      "32/32 [==============================] - 4s 138ms/step - loss: 0.9065 - accuracy: 0.5060 - val_loss: 0.6901 - val_accuracy: 0.5040\n",
      "Epoch 9/10\n",
      "32/32 [==============================] - 4s 137ms/step - loss: 0.8969 - accuracy: 0.5132 - val_loss: 0.6879 - val_accuracy: 0.5830\n",
      "Epoch 10/10\n",
      "32/32 [==============================] - 4s 140ms/step - loss: 0.9173 - accuracy: 0.5040 - val_loss: 0.6863 - val_accuracy: 0.5730\n"
     ]
    }
   ],
   "source": [
    "# train\n",
    "epochs = 10\n",
    "batch_size = 128\n",
    "model_history = model.fit(\n",
    "    x=X_train,\n",
    "    y=y_train,\n",
    "    epochs=epochs,\n",
    "    batch_size=batch_size,\n",
    "    validation_data = (X_valid, y_valid)\n",
    ")"
   ]
  },
  {
   "cell_type": "code",
   "execution_count": 18,
   "metadata": {},
   "outputs": [
    {
     "name": "stderr",
     "output_type": "stream",
     "text": [
      "2024-04-11 23:01:04.705270: W tensorflow/core/framework/cpu_allocator_impl.cc:82] Allocation of 2408448000 exceeds 10% of free system memory.\n",
      "2024-04-11 23:01:07.725109: W tensorflow/core/framework/cpu_allocator_impl.cc:82] Allocation of 2408448000 exceeds 10% of free system memory.\n"
     ]
    },
    {
     "name": "stdout",
     "output_type": "stream",
     "text": [
      "125/125 [==============================] - 3s 17ms/step\n",
      "Acc on train:  0.57425\n",
      "32/32 [==============================] - 1s 18ms/step\n",
      "Acc on val:  0.573\n"
     ]
    }
   ],
   "source": [
    "# evaluate\n",
    "train_classes = (model.predict(X_train) > 0.5).astype('float32')\n",
    "print('Acc on train: ', accuracy_score(y_train, train_classes))\n",
    "\n",
    "val_classes = (model.predict(X_valid) > 0.5).astype('float32')\n",
    "print('Acc on val: ', accuracy_score(y_valid, val_classes))"
   ]
  },
  {
   "cell_type": "code",
   "execution_count": 19,
   "metadata": {},
   "outputs": [
    {
     "data": {
      "image/png": "[encoded data removed]",
      "text/plain": [
       "<Figure size 640x480 with 1 Axes>"
      ]
     },
     "metadata": {},
     "output_type": "display_data"
    }
   ],
   "source": [
    "# summarize history for loss\n",
    "plt.plot(model_history.history['loss'])\n",
    "plt.plot(model_history.history['val_loss'])\n",
    "plt.title('model loss')\n",
    "plt.ylabel('loss')\n",
    "plt.xlabel('epoch')\n",
    "plt.legend(['train', 'validation'],loc='upper left')\n",
    "plt.show()"
   ]
  },
  {
   "cell_type": "code",
   "execution_count": null,
   "metadata": {},
   "outputs": [],
   "source": []
  }
 ],
 "metadata": {
  "kernelspec": {
   "display_name": "tensorflow",
   "language": "python",
   "name": "python3"
  },
  "language_info": {
   "codemirror_mode": {
    "name": "ipython",
    "version": 3
   },
   "file_extension": ".py",
   "mimetype": "text/x-python",
   "name": "python",
   "nbconvert_exporter": "python",
   "pygments_lexer": "ipython3",
   "version": "3.9.16"
  }
 },
 "nbformat": 4,
 "nbformat_minor": 2
}
